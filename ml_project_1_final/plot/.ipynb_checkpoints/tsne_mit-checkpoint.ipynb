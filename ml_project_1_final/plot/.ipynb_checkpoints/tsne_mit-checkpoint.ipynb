{
 "cells": [
  {
   "cell_type": "code",
   "execution_count": 1,
   "metadata": {},
   "outputs": [
    {
     "name": "stderr",
     "output_type": "stream",
     "text": [
      "Using TensorFlow backend.\n"
     ]
    }
   ],
   "source": [
    "from keras.models import load_model\n",
    "import pandas as pd\n",
    "import numpy as np\n",
    "import matplotlib.pyplot as plt\n",
    "from keras import backend as K\n",
    "from sklearn.manifold import TSNE"
   ]
  },
  {
   "cell_type": "code",
   "execution_count": 7,
   "metadata": {},
   "outputs": [],
   "source": [
    "filename = '../baseline_cnn_mitbih.h5'\n",
    "model = load_model(filename)\n",
    "\n",
    "df_train = pd.read_csv(\"../../input/mitbih_train.csv\", header=None)\n",
    "df_train = df_train.sample(frac=1)\n",
    "df_test = pd.read_csv(\"../../input/mitbih_test.csv\", header=None)\n",
    "\n",
    "\n",
    "Y = np.array(df_train[187].values).astype(np.int8)\n",
    "X = np.array(df_train[list(range(187))].values)[...,np.newaxis]"
   ]
  },
  {
   "cell_type": "code",
   "execution_count": 8,
   "metadata": {},
   "outputs": [
    {
     "name": "stdout",
     "output_type": "stream",
     "text": [
      "(87554, 187, 1)\n"
     ]
    }
   ],
   "source": [
    "print(X.shape)"
   ]
  },
  {
   "cell_type": "code",
   "execution_count": 9,
   "metadata": {},
   "outputs": [],
   "source": [
    "n = X.shape[0]\n",
    "\n",
    "target_dict = {0:'N' , 1:'S' , 2:'V', 3:'F' , 4:'Q'}\n",
    "target_ind = target_dict.keys()\n",
    "target_val = target_dict.values()\n",
    "\n",
    "#ind = np.argwhere(Y==0)\n",
    "#print(ind)\n",
    "\n",
    "index_tot = np.array([])\n",
    "\n",
    "#for i in target_ind : \n",
    "    #n_int = np.argwhere(Y==i)\n",
    "    #index_int = np.random.permutation(n_int)[:,641]\n",
    "    #print(len(n_int))\n",
    "\n",
    "for i in target_ind :\n",
    "    n_int = np.argwhere(Y==i)[:,0]\n",
    "    index_int = np.random.permutation(n_int)[:600]\n",
    "    #index_int = np.random.permutation(n_int)[:10]\n",
    "    index_tot = np.concatenate( (index_tot, index_int) )\n",
    "\n",
    "index_tot = index_tot.astype(int)\n",
    "#print(index_tot)\n",
    "X = X[index_tot]\n",
    "Y = Y[index_tot]"
   ]
  },
  {
   "cell_type": "code",
   "execution_count": 10,
   "metadata": {},
   "outputs": [],
   "source": [
    "get_layer_output = K.function([model.layers[0].input],\n",
    "                                  [model.layers[18].output])\n",
    "t =get_layer_output([X])[0]"
   ]
  },
  {
   "cell_type": "code",
   "execution_count": 11,
   "metadata": {},
   "outputs": [],
   "source": [
    "tsne = TSNE(n_components=2)\n",
    "components = tsne.fit_transform(t)"
   ]
  },
  {
   "cell_type": "code",
   "execution_count": 12,
   "metadata": {},
   "outputs": [],
   "source": [
    "df = pd.DataFrame(data = components,\n",
    "                          columns = ['component 1' ,\n",
    "                                    'component 2'])\n",
    "\n",
    "labels = pd.DataFrame(Y)\n",
    "\n",
    "finalDf = pd.concat([df, labels] , axis=1)"
   ]
  },
  {
   "cell_type": "code",
   "execution_count": 15,
   "metadata": {},
   "outputs": [
    {
     "data": {
      "image/png": "[encoded data removed]",
      "text/plain": [
       "<Figure size 576x576 with 1 Axes>"
      ]
     },
     "metadata": {
      "needs_background": "light"
     },
     "output_type": "display_data"
    }
   ],
   "source": [
    "fig = plt.figure(figsize = (8,8))\n",
    "\n",
    "ax = fig.add_subplot(1,1,1) \n",
    "ax.set_xlabel('Component 1', fontsize = 15)\n",
    "ax.set_ylabel('Component 2', fontsize = 15)\n",
    "ax.set_title('2 component TSNE for mit', fontsize = 20)\n",
    "#targets = ['N': 0, 'S': 1, 'V': 2, 'F': 3, 'Q': 4]\n",
    "#targets = target_ind #range(4)\n",
    "colors = ['r', 'g', 'b' , 'y' , 'm'] #k = black #m = magenta\n",
    "for target, color in zip(target_ind , colors):\n",
    "    #print(target)\n",
    "    #indicesToKeep = finalDf[187] == target\n",
    "    indicesToKeep = labels == target\n",
    "    indicesToKeep = indicesToKeep.values[:,0]\n",
    "    #print(indicesToKeep)\n",
    "    ax.scatter(finalDf.loc[indicesToKeep, 'component 1']\n",
    "               , finalDf.loc[indicesToKeep, 'component 2']\n",
    "               , c = color\n",
    "               , s = 50)\n",
    "ax.legend(target_val)\n",
    "ax.grid()"
   ]
  },
  {
   "cell_type": "code",
   "execution_count": null,
   "metadata": {},
   "outputs": [],
   "source": []
  }
 ],
 "metadata": {
  "kernelspec": {
   "display_name": "Python 3",
   "language": "python",
   "name": "python3"
  },
  "language_info": {
   "codemirror_mode": {
    "name": "ipython",
    "version": 3
   },
   "file_extension": ".py",
   "mimetype": "text/x-python",
   "name": "python",
   "nbconvert_exporter": "python",
   "pygments_lexer": "ipython3",
   "version": "3.7.1"
  }
 },
 "nbformat": 4,
 "nbformat_minor": 2
}
