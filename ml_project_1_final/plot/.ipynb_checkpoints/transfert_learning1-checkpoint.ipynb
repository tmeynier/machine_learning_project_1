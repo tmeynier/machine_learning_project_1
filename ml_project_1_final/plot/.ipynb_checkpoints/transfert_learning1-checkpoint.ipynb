{
 "cells": [
  {
   "cell_type": "code",
   "execution_count": 12,
   "metadata": {},
   "outputs": [],
   "source": [
    "import pandas as pd\n",
    "import numpy as np\n",
    "\n",
    "from keras.models import Model\n",
    "from keras.models import load_model\n",
    "from keras import optimizers, losses, activations, models\n",
    "from keras.callbacks import ModelCheckpoint, EarlyStopping, LearningRateScheduler, ReduceLROnPlateau\n",
    "from keras.layers import Dense, Input, Dropout, Convolution1D, MaxPool1D, GlobalMaxPool1D, GlobalAveragePooling1D, \\\n",
    "    concatenate\n",
    "from sklearn.metrics import f1_score, accuracy_score\n",
    "from sklearn.model_selection import train_test_split"
   ]
  },
  {
   "cell_type": "code",
   "execution_count": 40,
   "metadata": {},
   "outputs": [],
   "source": [
    "filename = '../rnn_mitbih.h5'\n",
    "#Model trained with the MIT data set\n",
    "model = load_model(filename)\n",
    "\n",
    "#print(model.layers)\n",
    "#model.layers.pop()\n",
    "#model.layers.pop()\n",
    "\n",
    "nclass = 5\n",
    "#inp = model.input\n",
    "#out = model.layers[-1].output\n",
    "\n",
    "new_model = Model(model.input, model.layers[-2].output) #take the 2nd layer from the end"
   ]
  },
  {
   "cell_type": "code",
   "execution_count": 41,
   "metadata": {},
   "outputs": [
    {
     "name": "stdout",
     "output_type": "stream",
     "text": [
      "Model: \"sequential_1\"\n",
      "_________________________________________________________________\n",
      "Layer (type)                 Output Shape              Param #   \n",
      "=================================================================\n",
      "simple_rnn_1 (SimpleRNN)     (None, 187, 256)          66048     \n",
      "_________________________________________________________________\n",
      "simple_rnn_2 (SimpleRNN)     (None, 124)               47244     \n",
      "_________________________________________________________________\n",
      "dense_1 (Dense)              (None, 5)                 625       \n",
      "=================================================================\n",
      "Total params: 113,917\n",
      "Trainable params: 113,917\n",
      "Non-trainable params: 0\n",
      "_________________________________________________________________\n",
      "None\n",
      "Model: \"model_7\"\n",
      "_________________________________________________________________\n",
      "Layer (type)                 Output Shape              Param #   \n",
      "=================================================================\n",
      "simple_rnn_1_input (InputLay (None, 187, 1)            0         \n",
      "_________________________________________________________________\n",
      "simple_rnn_1 (SimpleRNN)     (None, 187, 256)          66048     \n",
      "_________________________________________________________________\n",
      "simple_rnn_2 (SimpleRNN)     (None, 124)               47244     \n",
      "=================================================================\n",
      "Total params: 113,292\n",
      "Trainable params: 113,292\n",
      "Non-trainable params: 0\n",
      "_________________________________________________________________\n",
      "None\n",
      "3\n",
      "3\n"
     ]
    }
   ],
   "source": [
    "print(model.summary())\n",
    "print(new_model.summary())\n",
    "print(len(model.layers))\n",
    "print(len(new_model.layers))"
   ]
  },
  {
   "cell_type": "code",
   "execution_count": 42,
   "metadata": {},
   "outputs": [
    {
     "name": "stdout",
     "output_type": "stream",
     "text": [
      "3\n",
      "3\n",
      "<keras.engine.input_layer.InputLayer object at 0x1a3a953828>\n",
      "<keras.layers.recurrent.SimpleRNN object at 0x1a393d3c18>\n",
      "<keras.layers.recurrent.SimpleRNN object at 0x1a3a94c1d0>\n"
     ]
    }
   ],
   "source": [
    "print(len(model.layers))\n",
    "print(len(new_model.layers))\n",
    "for i in new_model.layers :\n",
    "    print(i)"
   ]
  },
  {
   "cell_type": "code",
   "execution_count": 43,
   "metadata": {},
   "outputs": [],
   "source": [
    "#outputs are the vector representation of the PTB Diagnostic ECG Database samples.\n",
    "df_1 = pd.read_csv(\"../../input/ptbdb_normal.csv\", header=None)\n",
    "df_2 = pd.read_csv(\"../../input/ptbdb_abnormal.csv\", header=None)\n",
    "df = pd.concat([df_1, df_2])\n",
    "\n",
    "df_train, df_test = train_test_split(df, test_size=0.2, random_state=1337, stratify=df[187])\n",
    "\n",
    "Y = np.array(df_train[187].values).astype(np.int8)\n",
    "X = np.array(df_train[list(range(187))].values)[..., np.newaxis]\n",
    "\n",
    "Y_test = np.array(df_test[187].values).astype(np.int8)\n",
    "X_test = np.array(df_test[list(range(187))].values)[..., np.newaxis]\n",
    "\n",
    "ptb_representation = new_model.predict(X)"
   ]
  },
  {
   "cell_type": "code",
   "execution_count": 44,
   "metadata": {},
   "outputs": [
    {
     "name": "stdout",
     "output_type": "stream",
     "text": [
      "(11641, 187, 1)\n",
      "(11641, 124)\n"
     ]
    }
   ],
   "source": [
    "print(X.shape)\n",
    "print(ptb_representation.shape)"
   ]
  },
  {
   "cell_type": "code",
   "execution_count": 49,
   "metadata": {},
   "outputs": [],
   "source": [
    "#train a new small feedforward neural network equivalent to the layers you removed from the first model.\n",
    "inp = Input((ptb_representation.shape[1],))\n",
    "dense_1 = Dense(1, activation=activations.relu, name=\"dense_2\")(inp)\n",
    "#dense_1 = Dense(nclass, activation=activations.softmax, name=\"dense_3_mitbih\")(dense_1)\n",
    "\n",
    "model2= models.Model(inputs=inp, outputs=dense_1)\n",
    "opt = optimizers.Adam(0.001)\n",
    "\n",
    "model2.compile(optimizer=opt, loss=losses.binary_crossentropy, metrics=['acc'])"
   ]
  },
  {
   "cell_type": "code",
   "execution_count": 50,
   "metadata": {},
   "outputs": [
    {
     "name": "stdout",
     "output_type": "stream",
     "text": [
      "Train on 10476 samples, validate on 1165 samples\n",
      "Epoch 1/1\n",
      " - 1s - loss: 1.4597 - acc: 0.5877 - val_loss: 1.3776 - val_acc: 0.6094\n",
      "\n",
      "Epoch 00001: val_acc improved from -inf to 0.60944, saving model to transfert_learning1.h5\n"
     ]
    },
    {
     "data": {
      "text/plain": [
       "<keras.callbacks.callbacks.History at 0x1a32396e10>"
      ]
     },
     "execution_count": 50,
     "metadata": {},
     "output_type": "execute_result"
    }
   ],
   "source": [
    "file_path = \"transfert_learning1.h5\"\n",
    "checkpoint = ModelCheckpoint(file_path, monitor='val_acc', verbose=1, save_best_only=True, mode='max')\n",
    "early = EarlyStopping(monitor=\"val_acc\", mode=\"max\", patience=10, verbose=1)\n",
    "redonplat = ReduceLROnPlateau(monitor=\"val_acc\", mode=\"max\", patience=3, verbose=2)\n",
    "callbacks_list = [checkpoint, early, redonplat]  # early\n",
    "\n",
    "model2.fit(ptb_representation , Y, epochs=1, verbose=2, callbacks=callbacks_list, validation_split = 0.1)  "
   ]
  },
  {
   "cell_type": "code",
   "execution_count": 52,
   "metadata": {},
   "outputs": [
    {
     "name": "stdout",
     "output_type": "stream",
     "text": [
      "Test f1 score : 0.5739186532963337 \n"
     ]
    }
   ],
   "source": [
    "X_test_transformed = new_model.predict(X_test)\n",
    "pred_test = model2.predict(X_test_transformed)\n",
    "pred_test = (pred_test>0.5).astype(np.int8)\n",
    "\n",
    "\n",
    "f1 = f1_score(Y_test, pred_test, average=\"macro\")\n",
    "\n",
    "print(\"Test f1 score : %s \"% f1)"
   ]
  },
  {
   "cell_type": "code",
   "execution_count": null,
   "metadata": {},
   "outputs": [],
   "source": []
  }
 ],
 "metadata": {
  "kernelspec": {
   "display_name": "Python 3",
   "language": "python",
   "name": "python3"
  },
  "language_info": {
   "codemirror_mode": {
    "name": "ipython",
    "version": 3
   },
   "file_extension": ".py",
   "mimetype": "text/x-python",
   "name": "python",
   "nbconvert_exporter": "python",
   "pygments_lexer": "ipython3",
   "version": "3.7.1"
  }
 },
 "nbformat": 4,
 "nbformat_minor": 2
}
